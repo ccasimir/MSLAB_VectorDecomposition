{
 "cells": [
  {
   "cell_type": "code",
   "execution_count": 26,
   "id": "14f4ab2e",
   "metadata": {},
   "outputs": [],
   "source": [
    "from collections import defaultdict\n",
    "import math\n",
    "import numpy as np \n",
    "import re\n",
    "import torch\n",
    "import torch.nn as nn\n",
    "from itertools import cycle\n",
    "from torch.nn.utils.rnn import pad_sequence\n",
    "from torch.utils.data import DataLoader, Dataset\n",
    "import torch.nn.functional as F\n",
    "from tqdm.auto import tqdm\n",
    "\n",
    "from sklearn.metrics import ndcg_score\n",
    "import torch.nn as nn\n",
    "import torch.nn.functional as F\n",
    "import torch.optim as optim\n",
    "\n",
    "from nltk.stem import PorterStemmer\n",
    "from nltk.corpus import stopwords\n",
    "\n",
    "import matplotlib.pyplot as plt \n",
    "import pandas as pd"
   ]
  },
  {
   "cell_type": "code",
   "execution_count": null,
   "id": "4d2a828c",
   "metadata": {},
   "outputs": [],
   "source": []
  },
  {
   "cell_type": "code",
   "execution_count": 28,
   "id": "f559dbc0",
   "metadata": {},
   "outputs": [
    {
     "data": {
      "text/plain": [
       "True"
      ]
     },
     "execution_count": 28,
     "metadata": {},
     "output_type": "execute_result"
    }
   ],
   "source": [
    "\"a\" in set(stopwords.words('english'))"
   ]
  },
  {
   "cell_type": "code",
   "execution_count": 2,
   "id": "e7d5ac04",
   "metadata": {},
   "outputs": [],
   "source": [
    "from sklearn.datasets import fetch_20newsgroups\n",
    "dataset = fetch_20newsgroups(subset='all',\n",
    "                             shuffle=True, random_state=42)"
   ]
  },
  {
   "cell_type": "code",
   "execution_count": 16,
   "id": "db9e5a2e",
   "metadata": {},
   "outputs": [],
   "source": [
    "with open('../data/CNN.txt', 'w') as f:\n",
    "    for d in dataset.data:\n",
    "        d = d.replace(\"\\n\", \" \")\n",
    "        print(d, file=f)"
   ]
  },
  {
   "cell_type": "code",
   "execution_count": 24,
   "id": "2f9ac0e1",
   "metadata": {},
   "outputs": [
    {
     "name": "stdout",
     "output_type": "stream",
     "text": [
      "error ../data/PubMed/docs/12777364.txt\n",
      "error ../data/PubMed/docs/12419768.txt\n",
      "error ../data/PubMed/docs/10933267.txt\n",
      "error ../data/PubMed/docs/15353412.txt\n",
      "error ../data/PubMed/docs/16269586.txt\n"
     ]
    }
   ],
   "source": [
    "import os\n",
    "\n",
    "dir_path = '../data/PubMed/docs'\n",
    "\n",
    "texts = []\n",
    "for file in os.listdir(dir_path):\n",
    "    file = os.path.join(dir_path, file)\n",
    "    with open(file, 'r') as f:\n",
    "        try:\n",
    "            text = ''.join(f.readlines())\n",
    "            \n",
    "        except:\n",
    "            print('error', file)\n",
    "            continue\n",
    "            \n",
    "    text.replace('\\n', ' ')\n",
    "    texts.append(text)"
   ]
  },
  {
   "cell_type": "code",
   "execution_count": 25,
   "id": "9f626aad",
   "metadata": {},
   "outputs": [],
   "source": [
    "with open('../data/PubMed.txt', 'w') as f:\n",
    "    for text in texts:\n",
    "        print(text, file = f)\n"
   ]
  }
 ],
 "metadata": {
  "kernelspec": {
   "display_name": "Python 3",
   "language": "python",
   "name": "python3"
  },
  "language_info": {
   "codemirror_mode": {
    "name": "ipython",
    "version": 3
   },
   "file_extension": ".py",
   "mimetype": "text/x-python",
   "name": "python",
   "nbconvert_exporter": "python",
   "pygments_lexer": "ipython3",
   "version": "3.7.0"
  }
 },
 "nbformat": 4,
 "nbformat_minor": 5
}
